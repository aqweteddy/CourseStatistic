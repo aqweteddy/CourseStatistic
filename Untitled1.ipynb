{
 "cells": [
  {
   "cell_type": "code",
   "execution_count": 1,
   "metadata": {},
   "outputs": [],
   "source": [
    "import sys\n",
    "import os\n",
    "sys.path.append('..')\n",
    "from crawler.crawler import PttCrawlerMongoDB\n",
    "\n",
    "db = PttCrawlerMongoDB(only_connect_db=True)\n",
    "# os.chdir('crawler')\n",
    "# PttCrawlerMongoDB(board='Gossiping', pages=50, title_lim=['-', '公告'])\n",
    "# PttCrawlerMongoDB(board='WomenTalk', pages=50, title_lim=['-', '公告'])\n",
    "# db = PttCrawlerMongoDB(board='HatePolitics', pages=50, title_lim=['-', '公告'])"
   ]
  },
  {
   "cell_type": "code",
   "execution_count": 2,
   "metadata": {},
   "outputs": [
    {
     "data": {
      "text/html": [
       "<div>\n",
       "<style scoped>\n",
       "    .dataframe tbody tr th:only-of-type {\n",
       "        vertical-align: middle;\n",
       "    }\n",
       "\n",
       "    .dataframe tbody tr th {\n",
       "        vertical-align: top;\n",
       "    }\n",
       "\n",
       "    .dataframe thead th {\n",
       "        text-align: right;\n",
       "    }\n",
       "</style>\n",
       "<table border=\"1\" class=\"dataframe\">\n",
       "  <thead>\n",
       "    <tr style=\"text-align: right;\">\n",
       "      <th></th>\n",
       "      <th>author</th>\n",
       "      <th>board</th>\n",
       "      <th>comment</th>\n",
       "      <th>score</th>\n",
       "      <th>text</th>\n",
       "      <th>title</th>\n",
       "      <th>len_comment</th>\n",
       "    </tr>\n",
       "  </thead>\n",
       "  <tbody>\n",
       "    <tr>\n",
       "      <th>0</th>\n",
       "      <td>haolun</td>\n",
       "      <td>Gossiping</td>\n",
       "      <td>[{'tag': '→', 'user': 'sorrywow', 'text': '是貓好...</td>\n",
       "      <td>7</td>\n",
       "      <td>\\n\\n https://i.imgur.com/XVEjX3b.jpg \\n \\n如圖，...</td>\n",
       "      <td>[問卦] 請問這是什麼蜘蛛？</td>\n",
       "      <td>14</td>\n",
       "    </tr>\n",
       "    <tr>\n",
       "      <th>1</th>\n",
       "      <td>testes</td>\n",
       "      <td>Gossiping</td>\n",
       "      <td>[]</td>\n",
       "      <td>0</td>\n",
       "      <td>\\n不僅郝龍斌、陳長文！　郭董「A級顧問團」還有趙少康、陳文茜\\n\\n https://c...</td>\n",
       "      <td>[新聞] 不僅郝龍斌、陳長文！　郭董「A級顧問團</td>\n",
       "      <td>0</td>\n",
       "    </tr>\n",
       "    <tr>\n",
       "      <th>2</th>\n",
       "      <td>moonmaker</td>\n",
       "      <td>Gossiping</td>\n",
       "      <td>[{'tag': '推', 'user': 'shedoing', 'text': '館長表...</td>\n",
       "      <td>1</td>\n",
       "      <td>\\n其實還不錯啊\\n\\n搞不好郭董最後來個假戲真做\\n\\n選上總統後來個全球第一夫人總海選...</td>\n",
       "      <td>Re: [新聞] 曾馨瑩離家出走！郭台銘爆：她不諒解我選</td>\n",
       "      <td>1</td>\n",
       "    </tr>\n",
       "    <tr>\n",
       "      <th>3</th>\n",
       "      <td>lin089170</td>\n",
       "      <td>Gossiping</td>\n",
       "      <td>[{'tag': '→', 'user': 'RecluseMF', 'text': '幫高...</td>\n",
       "      <td>98</td>\n",
       "      <td>\\n\\n4/24更新：已經找到了，謝謝大家幫忙，謝謝！！\\n\\n\\n當天特徵：穿格子襯衫、...</td>\n",
       "      <td>[尋人] 高雄81歲阿公走失(已找到，謝謝大家)</td>\n",
       "      <td>107</td>\n",
       "    </tr>\n",
       "    <tr>\n",
       "      <th>4</th>\n",
       "      <td>WenD0732</td>\n",
       "      <td>Gossiping</td>\n",
       "      <td>[{'tag': '噓', 'user': 'mikemagic88', 'text': '...</td>\n",
       "      <td>-1</td>\n",
       "      <td>\\n\\n這兩天忽然版上都在推福利熊熊福利\\n\\n請支援手淫！\\n\\n請問為什麼忽然冒起這樣...</td>\n",
       "      <td>[問卦] 為什麼這兩天都是福利熊？</td>\n",
       "      <td>6</td>\n",
       "    </tr>\n",
       "  </tbody>\n",
       "</table>\n",
       "</div>"
      ],
      "text/plain": [
       "      author      board                                            comment  \\\n",
       "0     haolun  Gossiping  [{'tag': '→', 'user': 'sorrywow', 'text': '是貓好...   \n",
       "1     testes  Gossiping                                                 []   \n",
       "2  moonmaker  Gossiping  [{'tag': '推', 'user': 'shedoing', 'text': '館長表...   \n",
       "3  lin089170  Gossiping  [{'tag': '→', 'user': 'RecluseMF', 'text': '幫高...   \n",
       "4   WenD0732  Gossiping  [{'tag': '噓', 'user': 'mikemagic88', 'text': '...   \n",
       "\n",
       "   score                                               text  \\\n",
       "0      7   \\n\\n https://i.imgur.com/XVEjX3b.jpg \\n \\n如圖，...   \n",
       "1      0   \\n不僅郝龍斌、陳長文！　郭董「A級顧問團」還有趙少康、陳文茜\\n\\n https://c...   \n",
       "2      1   \\n其實還不錯啊\\n\\n搞不好郭董最後來個假戲真做\\n\\n選上總統後來個全球第一夫人總海選...   \n",
       "3     98   \\n\\n4/24更新：已經找到了，謝謝大家幫忙，謝謝！！\\n\\n\\n當天特徵：穿格子襯衫、...   \n",
       "4     -1   \\n\\n這兩天忽然版上都在推福利熊熊福利\\n\\n請支援手淫！\\n\\n請問為什麼忽然冒起這樣...   \n",
       "\n",
       "                          title  len_comment  \n",
       "0                [問卦] 請問這是什麼蜘蛛？           14  \n",
       "1      [新聞] 不僅郝龍斌、陳長文！　郭董「A級顧問團            0  \n",
       "2  Re: [新聞] 曾馨瑩離家出走！郭台銘爆：她不諒解我選            1  \n",
       "3      [尋人] 高雄81歲阿公走失(已找到，謝謝大家)          107  \n",
       "4             [問卦] 為什麼這兩天都是福利熊？            6  "
      ]
     },
     "execution_count": 2,
     "metadata": {},
     "output_type": "execute_result"
    }
   ],
   "source": [
    "import pandas as pd\n",
    "import numpy as np\n",
    "articles = list(db.find('article', {}, ['author', 'board', 'text', 'score', 'comment', 'title']))\n",
    "total = pd.DataFrame(articles)\n",
    "total['len_comment'] = [len(it) for it in total['comment']]\n",
    "total = total.drop('_id', axis=1)\n",
    "total.head()\n"
   ]
  },
  {
   "cell_type": "code",
   "execution_count": 3,
   "metadata": {},
   "outputs": [
    {
     "name": "stderr",
     "output_type": "stream",
     "text": [
      "/anaconda3/lib/python3.6/site-packages/ipykernel_launcher.py:5: UserWarning: Boolean Series key will be reindexed to match DataFrame index.\n",
      "  \"\"\"\n",
      "/anaconda3/lib/python3.6/site-packages/ipykernel_launcher.py:8: UserWarning: Boolean Series key will be reindexed to match DataFrame index.\n",
      "  \n"
     ]
    },
    {
     "data": {
      "text/plain": [
       "<matplotlib.axes._subplots.AxesSubplot at 0x11103e0b8>"
      ]
     },
     "execution_count": 3,
     "metadata": {},
     "output_type": "execute_result"
    }
   ],
   "source": [
    "mask = total['len_comment'] > 10\n",
    "total.isnull().any()\n",
    "total = total.dropna(axis=0, how='any')\n",
    "score_sec = (-80, -60, -40, -20, 0, 20, 40, 60, 80, 100, 500)\n",
    "score = pd.cut(total[mask]['score'], score_sec)\n",
    "# print(score)\n",
    "# total[mask].groupby([total['board'], score])[['score']].sum().dropna(axis=0, how='any')\n",
    "score_piv_board = total[mask].pivot_table('score', [score], 'board', aggfunc='count').dropna(axis=0, how='all').fillna(0, axis=0)\n",
    "score_piv_board.plot(kind='bar')"
   ]
  },
  {
   "cell_type": "code",
   "execution_count": null,
   "metadata": {},
   "outputs": [
    {
     "data": {
      "text/plain": [
       "<matplotlib.axes._subplots.AxesSubplot at 0x1a1ba3eb38>"
      ]
     },
     "execution_count": 4,
     "metadata": {},
     "output_type": "execute_result"
    },
    {
     "data": {
      "text/plain": [
       "<matplotlib.figure.Figure at 0x107896b38>"
      ]
     },
     "metadata": {},
     "output_type": "display_data"
    },
    {
     "data": {
      "image/png": "[encoded data removed]",
      "text/plain": [
       "<matplotlib.figure.Figure at 0x1a1ba3e4e0>"
      ]
     },
     "metadata": {},
     "output_type": "display_data"
    }
   ],
   "source": [
    "import seaborn as sns\n",
    "import matplotlib.pyplot as plt\n",
    "plt.figure(figsize=(20, 10))\n",
    "# print(score_piv_board['Gossiping'])\n",
    "# fig = plt.figure()\n",
    "\n",
    "# X = score_piv_board.index\n",
    "# print(score_piv_board)\n",
    "# plt.bar(np.arange(len(score_piv_board.index)), score_piv_board['Gossiping'], width=0.3, label='Gossiping', lw=1)\n",
    "# plt.bar(np.arange(len(score_piv_board.index)) + 0.3, score_piv_board['WomenTalk'], width=0.3, label='WomenTalk')\n",
    "# plt.bar(np.arange(len(score_piv_board.index)) + 0.6, score_piv_board['HatePolitics'], width=0.3, label='HatePolitics')\n",
    "\n",
    "score_piv_board.plot(kind='bar')\n",
    "# plt.xticks(range(len(score_piv_board.index)), score_piv_board.index, rotation=30)\n",
    "# plt.title(\"title\") \n",
    "# plt.xlabel(\"score\")\n",
    "# plt.ylabel(\"number\")\n",
    "# plt.legend(loc='upper left')\n",
    "# fig.tight_layout()\n",
    "# sns.barplot(x='score', y=score, hue='board', data=score_piv_board)\n",
    "# sns.barplot(x=score_piv_board.index, y='Gossiping', data=score_piv_board)"
   ]
  },
  {
   "cell_type": "code",
   "execution_count": null,
   "metadata": {},
   "outputs": [
    {
     "name": "stderr",
     "output_type": "stream",
     "text": [
      "Building prefix dict from /Users/apple/GoogleDrive/statistics/dict/dict.txt ...\n",
      "Loading model from cache /tmp/jieba.u5cf2d085ed4dce97017283a1c0b9d56c.cache\n",
      "Loading model cost 0.683 seconds.\n",
      "Prefix dict has been built succesfully.\n"
     ]
    }
   ],
   "source": [
    "import jieba as jb\n",
    "import jieba.posseg as pseg\n",
    "\n",
    "\n",
    "# !cd statistics\n",
    "# os.chdir('statistics')\n",
    "jb.set_dictionary('./dict/dict.txt')\n",
    "jb.load_userdict('./dict/ptt_dict.txt')\n",
    "jb.enable_parallel(3)\n",
    "\n",
    "STOP_WORD = set()\n",
    "with open('./dict/ptt_stop_word.txt', 'r') as f:\n",
    "    for line in f.readlines():\n",
    "        STOP_WORD.add(line.strip())\n",
    "\n",
    "com_text = ''\n",
    "for it in total['comment']:\n",
    "    for com in it:\n",
    "        com_text += com['text']\n",
    "total['cut_text'] = total['title'] + total['text'] + com_text\n",
    "tmp = []\n",
    "%timeit\n",
    "for item in total['cut_text']:\n",
    "    tmp.append([(w.word.strip(), w.flag.lower()) for w in pseg.cut(item) if w.word.strip() and w.word.strip() not in STOP_WORD])\n",
    "total['cut_text'] = tmp"
   ]
  },
  {
   "cell_type": "code",
   "execution_count": null,
   "metadata": {},
   "outputs": [],
   "source": [
    "print(STOP_WORD)\n",
    "total['cut_text'].head()\n",
    "\n"
   ]
  },
  {
   "cell_type": "code",
   "execution_count": null,
   "metadata": {},
   "outputs": [],
   "source": [
    "from gensim.corpora.dictionary import Dictionary\n",
    "\n",
    "def get_dict(text):\n",
    "    dic = dict()\n",
    "    words = []\n",
    "    for its in text:\n",
    "        tmp = []\n",
    "        for it in its:\n",
    "            if it[0] in dic.keys():\n",
    "                dic[it[0]].add(it[1].lower())\n",
    "            else:\n",
    "                dic[it[0]] = set(it[1].lower())\n",
    "            tmp.append(it[0])\n",
    "        words.append(tmp)\n",
    "        \n",
    "    word_dic = Dictionary(words)\n",
    "    word_dic.filter_extremes(no_below=4)\n",
    "    word_dic.filter_n_most_frequent(0)\n",
    "    word_dic.compactify()\n",
    "    return word_dic, {word_dic.token2id.get(w, -1): s for (w, s) in dic.items()}\n",
    "\n",
    "\n",
    "mask = total['len_comment'] > 5\n",
    "group = total[mask].groupby('board')\n",
    "word_dic, sub_dic = get_dict(total['cut_text'])\n",
    "tmp = []\n",
    "\n",
    "for text in total['cut_text']:\n",
    "    tmp.append([ word_dic.token2id.get(w[0], -1) for w in text])\n",
    "total['id_text'] = tmp"
   ]
  },
  {
   "cell_type": "code",
   "execution_count": null,
   "metadata": {},
   "outputs": [],
   "source": [
    "\n",
    "count = dict() # key: (total score, the number of articles)\n",
    "for ind, row in group.get_group('WomenTalk')[['len_comment', 'id_text', 'score']].iterrows():\n",
    "    for w in row['id_text']:\n",
    "        if w in count.keys():\n",
    "            count[w][0] += row['len_comment']\n",
    "            count[w][1] += 1\n",
    "#             count[w] = (count[w][0] + row['score'], count[w][1] + 1)\n",
    "        else:\n",
    "            count[w] = [row['len_comment'], 1]\n",
    "count = {idx: c[0]/c[1] for (idx, c) in count.items()}\n",
    "count = sorted(count.items(), key=lambda x: x[1], reverse=True)\n"
   ]
  },
  {
   "cell_type": "code",
   "execution_count": null,
   "metadata": {},
   "outputs": [],
   "source": [
    "plt.figure(figsize=(12, 6))\n",
    "ST = 2\n",
    "END = 25\n",
    "x = []\n",
    "y = []\n",
    "index = []\n",
    "for idx, sc in count[ST:]:\n",
    "    if 'n' in  sub_dic[idx] or 'N' in sub_dic[idx]:\n",
    "        x.append(sc)\n",
    "        y.append(word_dic.dfs[idx])\n",
    "        index.append(idx)\n",
    "        END -= 1\n",
    "    if END == 0:\n",
    "        break\n",
    "print(index)\n",
    "# for x in index:\n",
    "#     print(word_dic.id2token[x])\n",
    "df = pd.DataFrame({'len_comment': x, 'freq': y, 'idx': index})\n",
    "sns.set()\n",
    "pl = sns.regplot(x='len_comment', y='freq', data=df)\n",
    "\n",
    "for line in range(df.shape[0]):\n",
    "    pl.text(df.len_comment[line] + 0.2, df.freq[line], df.idx[line], horizontalalignment='center', size='small', color='black')"
   ]
  },
  {
   "cell_type": "raw",
   "metadata": {},
   "source": []
  },
  {
   "cell_type": "code",
   "execution_count": null,
   "metadata": {},
   "outputs": [],
   "source": [
    "for x in index:\n",
    "    print(word_dic.id2token[x])\n",
    "tmp = []\n",
    "for i in range(len(word_dic)):\n",
    "    tmp.append((word_dic[i], word_dic.dfs[i]))\n",
    "# sorted(tmp, key=lambda x:x[1], reverse=True)"
   ]
  },
  {
   "cell_type": "code",
   "execution_count": null,
   "metadata": {},
   "outputs": [],
   "source": [
    "word_dic[15]"
   ]
  },
  {
   "cell_type": "code",
   "execution_count": null,
   "metadata": {},
   "outputs": [],
   "source": []
  }
 ],
 "metadata": {
  "kernelspec": {
   "display_name": "Python 3",
   "language": "python",
   "name": "python3"
  },
  "language_info": {
   "codemirror_mode": {
    "name": "ipython",
    "version": 3
   },
   "file_extension": ".py",
   "mimetype": "text/x-python",
   "name": "python",
   "nbconvert_exporter": "python",
   "pygments_lexer": "ipython3",
   "version": "3.6.8"
  }
 },
 "nbformat": 4,
 "nbformat_minor": 2
}
