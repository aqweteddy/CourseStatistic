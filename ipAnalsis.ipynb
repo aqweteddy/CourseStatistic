{
 "cells": [
  {
   "cell_type": "code",
   "execution_count": 1,
   "metadata": {},
   "outputs": [],
   "source": [
    "\n",
    "import sys\n",
    "sys.path.append('..')\n",
    "from pymongo import MongoClient\n",
    "import pandas as pd\n",
    "import numpy as  np\n",
    "import matplotlib.pyplot as plt\n",
    "\n",
    "client = MongoClient(host='localhost')\n",
    "__db = client['new_statistic']\n",
    "user = __db['ptt_static.user']\n",
    "\n",
    "# db = PttCrawlerMongoDB(only_connect_db=True)"
   ]
  },
  {
   "cell_type": "code",
   "execution_count": 2,
   "metadata": {},
   "outputs": [],
   "source": [
    "df = pd.DataFrame(user.find({}))\n",
    "# db.find('user', {})\n",
    "# df = pd.read_json('./ptt_static.user.json')"
   ]
  },
  {
   "cell_type": "code",
   "execution_count": 3,
   "metadata": {},
   "outputs": [
    {
     "data": {
      "text/html": [
       "<div>\n",
       "<style scoped>\n",
       "    .dataframe tbody tr th:only-of-type {\n",
       "        vertical-align: middle;\n",
       "    }\n",
       "\n",
       "    .dataframe tbody tr th {\n",
       "        vertical-align: top;\n",
       "    }\n",
       "\n",
       "    .dataframe thead th {\n",
       "        text-align: right;\n",
       "    }\n",
       "</style>\n",
       "<table border=\"1\" class=\"dataframe\">\n",
       "  <thead>\n",
       "    <tr style=\"text-align: right;\">\n",
       "      <th></th>\n",
       "      <th>data</th>\n",
       "      <th>id</th>\n",
       "      <th>ip</th>\n",
       "      <th>tags</th>\n",
       "      <th>len_act</th>\n",
       "      <th>len_ip</th>\n",
       "    </tr>\n",
       "  </thead>\n",
       "  <tbody>\n",
       "    <tr>\n",
       "      <th>0</th>\n",
       "      <td>[{'board': 'Gossiping', 'text': '這樣台灣七成選民都是9.2...</td>\n",
       "      <td>z0953781935</td>\n",
       "      <td>[39.9.130.238\\n, 128.199.201.140\\n]</td>\n",
       "      <td>83</td>\n",
       "      <td>142</td>\n",
       "      <td>2</td>\n",
       "    </tr>\n",
       "    <tr>\n",
       "      <th>1</th>\n",
       "      <td>[{'board': 'Gossiping', 'text': '實話是這樣 不然為什麼台灣...</td>\n",
       "      <td>derayxu</td>\n",
       "      <td>[]</td>\n",
       "      <td>3</td>\n",
       "      <td>3</td>\n",
       "      <td>0</td>\n",
       "    </tr>\n",
       "    <tr>\n",
       "      <th>2</th>\n",
       "      <td>[{'board': 'Gossiping', 'text': '投不下去了', 'tag'...</td>\n",
       "      <td>energizer</td>\n",
       "      <td>[]</td>\n",
       "      <td>2</td>\n",
       "      <td>8</td>\n",
       "      <td>0</td>\n",
       "    </tr>\n",
       "    <tr>\n",
       "      <th>3</th>\n",
       "      <td>[{'board': 'Gossiping', 'text': '這不是實話嗎？ 噓文在崩潰...</td>\n",
       "      <td>cl700503</td>\n",
       "      <td>[]</td>\n",
       "      <td>-2</td>\n",
       "      <td>10</td>\n",
       "      <td>0</td>\n",
       "    </tr>\n",
       "    <tr>\n",
       "      <th>4</th>\n",
       "      <td>[{'board': 'Gossiping', 'text': '覺青要7pupu了', '...</td>\n",
       "      <td>k2233604</td>\n",
       "      <td>[]</td>\n",
       "      <td>27</td>\n",
       "      <td>49</td>\n",
       "      <td>0</td>\n",
       "    </tr>\n",
       "  </tbody>\n",
       "</table>\n",
       "</div>"
      ],
      "text/plain": [
       "                                                data           id  \\\n",
       "0  [{'board': 'Gossiping', 'text': '這樣台灣七成選民都是9.2...  z0953781935   \n",
       "1  [{'board': 'Gossiping', 'text': '實話是這樣 不然為什麼台灣...      derayxu   \n",
       "2  [{'board': 'Gossiping', 'text': '投不下去了', 'tag'...    energizer   \n",
       "3  [{'board': 'Gossiping', 'text': '這不是實話嗎？ 噓文在崩潰...     cl700503   \n",
       "4  [{'board': 'Gossiping', 'text': '覺青要7pupu了', '...     k2233604   \n",
       "\n",
       "                                    ip  tags  len_act  len_ip  \n",
       "0  [39.9.130.238\\n, 128.199.201.140\\n]    83      142       2  \n",
       "1                                   []     3        3       0  \n",
       "2                                   []     2        8       0  \n",
       "3                                   []    -2       10       0  \n",
       "4                                   []    27       49       0  "
      ]
     },
     "execution_count": 3,
     "metadata": {},
     "output_type": "execute_result"
    }
   ],
   "source": [
    "df = df.drop('_id', axis=1)\n",
    "df['len_act'] =  [len(row) for row in df['data']]\n",
    "df['len_ip'] = [len(row) for row in df['ip']]\n",
    "# df.to_json('./user_ip.json')\n",
    "df.head()"
   ]
  },
  {
   "cell_type": "code",
   "execution_count": null,
   "metadata": {},
   "outputs": [],
   "source": []
  },
  {
   "cell_type": "code",
   "execution_count": 4,
   "metadata": {},
   "outputs": [
    {
     "data": {
      "text/html": [
       "<div>\n",
       "<style scoped>\n",
       "    .dataframe tbody tr th:only-of-type {\n",
       "        vertical-align: middle;\n",
       "    }\n",
       "\n",
       "    .dataframe tbody tr th {\n",
       "        vertical-align: top;\n",
       "    }\n",
       "\n",
       "    .dataframe thead th {\n",
       "        text-align: right;\n",
       "    }\n",
       "</style>\n",
       "<table border=\"1\" class=\"dataframe\">\n",
       "  <thead>\n",
       "    <tr style=\"text-align: right;\">\n",
       "      <th></th>\n",
       "      <th>data</th>\n",
       "      <th>id</th>\n",
       "      <th>ip</th>\n",
       "      <th>tags</th>\n",
       "      <th>len_act</th>\n",
       "      <th>len_ip</th>\n",
       "    </tr>\n",
       "    <tr>\n",
       "      <th>ip_seg</th>\n",
       "      <th></th>\n",
       "      <th></th>\n",
       "      <th></th>\n",
       "      <th></th>\n",
       "      <th></th>\n",
       "      <th></th>\n",
       "    </tr>\n",
       "  </thead>\n",
       "  <tbody>\n",
       "    <tr>\n",
       "      <th>(0, 5]</th>\n",
       "      <td>4988</td>\n",
       "      <td>4988</td>\n",
       "      <td>4988</td>\n",
       "      <td>4988</td>\n",
       "      <td>4988</td>\n",
       "      <td>4988</td>\n",
       "    </tr>\n",
       "    <tr>\n",
       "      <th>(5, 10]</th>\n",
       "      <td>226</td>\n",
       "      <td>226</td>\n",
       "      <td>226</td>\n",
       "      <td>226</td>\n",
       "      <td>226</td>\n",
       "      <td>226</td>\n",
       "    </tr>\n",
       "    <tr>\n",
       "      <th>(10, 15]</th>\n",
       "      <td>51</td>\n",
       "      <td>51</td>\n",
       "      <td>51</td>\n",
       "      <td>51</td>\n",
       "      <td>51</td>\n",
       "      <td>51</td>\n",
       "    </tr>\n",
       "    <tr>\n",
       "      <th>(15, 20]</th>\n",
       "      <td>15</td>\n",
       "      <td>15</td>\n",
       "      <td>15</td>\n",
       "      <td>15</td>\n",
       "      <td>15</td>\n",
       "      <td>15</td>\n",
       "    </tr>\n",
       "    <tr>\n",
       "      <th>(20, 25]</th>\n",
       "      <td>9</td>\n",
       "      <td>9</td>\n",
       "      <td>9</td>\n",
       "      <td>9</td>\n",
       "      <td>9</td>\n",
       "      <td>9</td>\n",
       "    </tr>\n",
       "    <tr>\n",
       "      <th>(25, 30]</th>\n",
       "      <td>4</td>\n",
       "      <td>4</td>\n",
       "      <td>4</td>\n",
       "      <td>4</td>\n",
       "      <td>4</td>\n",
       "      <td>4</td>\n",
       "    </tr>\n",
       "    <tr>\n",
       "      <th>(30, 35]</th>\n",
       "      <td>2</td>\n",
       "      <td>2</td>\n",
       "      <td>2</td>\n",
       "      <td>2</td>\n",
       "      <td>2</td>\n",
       "      <td>2</td>\n",
       "    </tr>\n",
       "    <tr>\n",
       "      <th>(35, 40]</th>\n",
       "      <td>1</td>\n",
       "      <td>1</td>\n",
       "      <td>1</td>\n",
       "      <td>1</td>\n",
       "      <td>1</td>\n",
       "      <td>1</td>\n",
       "    </tr>\n",
       "    <tr>\n",
       "      <th>(40, 45]</th>\n",
       "      <td>0</td>\n",
       "      <td>0</td>\n",
       "      <td>0</td>\n",
       "      <td>0</td>\n",
       "      <td>0</td>\n",
       "      <td>0</td>\n",
       "    </tr>\n",
       "    <tr>\n",
       "      <th>(45, 50]</th>\n",
       "      <td>0</td>\n",
       "      <td>0</td>\n",
       "      <td>0</td>\n",
       "      <td>0</td>\n",
       "      <td>0</td>\n",
       "      <td>0</td>\n",
       "    </tr>\n",
       "    <tr>\n",
       "      <th>(50, 55]</th>\n",
       "      <td>0</td>\n",
       "      <td>0</td>\n",
       "      <td>0</td>\n",
       "      <td>0</td>\n",
       "      <td>0</td>\n",
       "      <td>0</td>\n",
       "    </tr>\n",
       "    <tr>\n",
       "      <th>(55, 60]</th>\n",
       "      <td>1</td>\n",
       "      <td>1</td>\n",
       "      <td>1</td>\n",
       "      <td>1</td>\n",
       "      <td>1</td>\n",
       "      <td>1</td>\n",
       "    </tr>\n",
       "    <tr>\n",
       "      <th>(60, 65]</th>\n",
       "      <td>0</td>\n",
       "      <td>0</td>\n",
       "      <td>0</td>\n",
       "      <td>0</td>\n",
       "      <td>0</td>\n",
       "      <td>0</td>\n",
       "    </tr>\n",
       "    <tr>\n",
       "      <th>(65, 70]</th>\n",
       "      <td>0</td>\n",
       "      <td>0</td>\n",
       "      <td>0</td>\n",
       "      <td>0</td>\n",
       "      <td>0</td>\n",
       "      <td>0</td>\n",
       "    </tr>\n",
       "    <tr>\n",
       "      <th>(70, 75]</th>\n",
       "      <td>0</td>\n",
       "      <td>0</td>\n",
       "      <td>0</td>\n",
       "      <td>0</td>\n",
       "      <td>0</td>\n",
       "      <td>0</td>\n",
       "    </tr>\n",
       "    <tr>\n",
       "      <th>(75, 80]</th>\n",
       "      <td>0</td>\n",
       "      <td>0</td>\n",
       "      <td>0</td>\n",
       "      <td>0</td>\n",
       "      <td>0</td>\n",
       "      <td>0</td>\n",
       "    </tr>\n",
       "    <tr>\n",
       "      <th>(80, 85]</th>\n",
       "      <td>0</td>\n",
       "      <td>0</td>\n",
       "      <td>0</td>\n",
       "      <td>0</td>\n",
       "      <td>0</td>\n",
       "      <td>0</td>\n",
       "    </tr>\n",
       "    <tr>\n",
       "      <th>(85, 90]</th>\n",
       "      <td>0</td>\n",
       "      <td>0</td>\n",
       "      <td>0</td>\n",
       "      <td>0</td>\n",
       "      <td>0</td>\n",
       "      <td>0</td>\n",
       "    </tr>\n",
       "    <tr>\n",
       "      <th>(90, 95]</th>\n",
       "      <td>0</td>\n",
       "      <td>0</td>\n",
       "      <td>0</td>\n",
       "      <td>0</td>\n",
       "      <td>0</td>\n",
       "      <td>0</td>\n",
       "    </tr>\n",
       "  </tbody>\n",
       "</table>\n",
       "</div>"
      ],
      "text/plain": [
       "          data    id    ip  tags  len_act  len_ip\n",
       "ip_seg                                           \n",
       "(0, 5]    4988  4988  4988  4988     4988    4988\n",
       "(5, 10]    226   226   226   226      226     226\n",
       "(10, 15]    51    51    51    51       51      51\n",
       "(15, 20]    15    15    15    15       15      15\n",
       "(20, 25]     9     9     9     9        9       9\n",
       "(25, 30]     4     4     4     4        4       4\n",
       "(30, 35]     2     2     2     2        2       2\n",
       "(35, 40]     1     1     1     1        1       1\n",
       "(40, 45]     0     0     0     0        0       0\n",
       "(45, 50]     0     0     0     0        0       0\n",
       "(50, 55]     0     0     0     0        0       0\n",
       "(55, 60]     1     1     1     1        1       1\n",
       "(60, 65]     0     0     0     0        0       0\n",
       "(65, 70]     0     0     0     0        0       0\n",
       "(70, 75]     0     0     0     0        0       0\n",
       "(75, 80]     0     0     0     0        0       0\n",
       "(80, 85]     0     0     0     0        0       0\n",
       "(85, 90]     0     0     0     0        0       0\n",
       "(90, 95]     0     0     0     0        0       0"
      ]
     },
     "execution_count": 4,
     "metadata": {},
     "output_type": "execute_result"
    }
   ],
   "source": [
    "# 利用 IP 篩選正常使用者\n",
    "mask = df['len_ip'] > 0 # 去除沒記錄到 ip 的\n",
    "fair_user = df[mask]\n",
    "\n",
    "# 分區段顯示過濾前資料\n",
    "seg = np.arange(0, 100, 5)\n",
    "df['ip_seg'] = pd.cut(df['len_ip'], seg)\n",
    "df = df.dropna()\n",
    "df.groupby('ip_seg').count()"
   ]
  },
  {
   "cell_type": "code",
   "execution_count": 5,
   "metadata": {},
   "outputs": [],
   "source": [
    "\n",
    "# 計算離群值\n",
    "q1 = fair_user['len_ip'].quantile(0.25)\n",
    "q3 = fair_user['len_ip'].quantile(0.75)\n",
    "iqr = q3 - q1\n",
    "\n",
    "# 過濾離群值\n",
    "mask1 = (fair_user['len_ip'] >= q1 - 1.5 * iqr) & (fair_user['len_ip'] \n",
    "                                                   <= np.ceil(q3 + 1.5 * iqr + 1))\n",
    "fair_user = fair_user[mask1]"
   ]
  },
  {
   "cell_type": "code",
   "execution_count": 6,
   "metadata": {},
   "outputs": [
    {
     "name": "stdout",
     "output_type": "stream",
     "text": [
      "1.0 2.0\n",
      "-0.5 5.0\n"
     ]
    }
   ],
   "source": [
    "print(q1, q3)\n",
    "print( q1 - 1.5 * iqr, np.ceil(q3 + 1.5 * iqr + 1))"
   ]
  },
  {
   "cell_type": "code",
   "execution_count": 7,
   "metadata": {},
   "outputs": [
    {
     "data": {
      "text/plain": [
       "<matplotlib.axes._subplots.AxesSubplot at 0x11eeb3518>"
      ]
     },
     "execution_count": 7,
     "metadata": {},
     "output_type": "execute_result"
    },
    {
     "data": {
      "image/png": "[encoded data removed]",
      "text/plain": [
       "<Figure size 432x288 with 1 Axes>"
      ]
     },
     "metadata": {},
     "output_type": "display_data"
    }
   ],
   "source": [
    "import seaborn as sns\n",
    "\n",
    "sns.set()\n",
    "# fair_user[mask1].groupby('len_ip')['id'].count().plot.kde()\n",
    "# print(fair_user[mask1].groupby('len_ip').sum())\n",
    "\n",
    "sns.distplot(fair_user.groupby('len_ip').count()['id'])"
   ]
  },
  {
   "cell_type": "code",
   "execution_count": null,
   "metadata": {},
   "outputs": [],
   "source": []
  },
  {
   "cell_type": "code",
   "execution_count": 10,
   "metadata": {},
   "outputs": [],
   "source": [
    "user_set = set(fair_user['id']) # 正常使用者的使用者名稱"
   ]
  },
  {
   "cell_type": "code",
   "execution_count": 14,
   "metadata": {},
   "outputs": [
    {
     "data": {
      "text/plain": [
       "<seaborn.axisgrid.FacetGrid at 0x12510aba8>"
      ]
     },
     "execution_count": 14,
     "metadata": {},
     "output_type": "execute_result"
    },
    {
     "data": {
      "image/png": "[encoded data removed]",
      "text/plain": [
       "<Figure size 360x360 with 1 Axes>"
      ]
     },
     "metadata": {},
     "output_type": "display_data"
    }
   ],
   "source": [
    "# 活動數量和IP數量關係\n",
    "sns.lmplot(x='len_ip', y='tags', data=df)"
   ]
  },
  {
   "cell_type": "code",
   "execution_count": 15,
   "metadata": {},
   "outputs": [
    {
     "data": {
      "text/html": [
       "<div>\n",
       "<style scoped>\n",
       "    .dataframe tbody tr th:only-of-type {\n",
       "        vertical-align: middle;\n",
       "    }\n",
       "\n",
       "    .dataframe tbody tr th {\n",
       "        vertical-align: top;\n",
       "    }\n",
       "\n",
       "    .dataframe thead th {\n",
       "        text-align: right;\n",
       "    }\n",
       "</style>\n",
       "<table border=\"1\" class=\"dataframe\">\n",
       "  <thead>\n",
       "    <tr style=\"text-align: right;\">\n",
       "      <th></th>\n",
       "      <th>tags</th>\n",
       "      <th>len_act</th>\n",
       "      <th>len_ip</th>\n",
       "    </tr>\n",
       "  </thead>\n",
       "  <tbody>\n",
       "    <tr>\n",
       "      <th>tags</th>\n",
       "      <td>1.000000</td>\n",
       "      <td>0.780832</td>\n",
       "      <td>0.307832</td>\n",
       "    </tr>\n",
       "    <tr>\n",
       "      <th>len_act</th>\n",
       "      <td>0.780832</td>\n",
       "      <td>1.000000</td>\n",
       "      <td>0.351688</td>\n",
       "    </tr>\n",
       "    <tr>\n",
       "      <th>len_ip</th>\n",
       "      <td>0.307832</td>\n",
       "      <td>0.351688</td>\n",
       "      <td>1.000000</td>\n",
       "    </tr>\n",
       "  </tbody>\n",
       "</table>\n",
       "</div>"
      ],
      "text/plain": [
       "             tags   len_act    len_ip\n",
       "tags     1.000000  0.780832  0.307832\n",
       "len_act  0.780832  1.000000  0.351688\n",
       "len_ip   0.307832  0.351688  1.000000"
      ]
     },
     "execution_count": 15,
     "metadata": {},
     "output_type": "execute_result"
    }
   ],
   "source": [
    "df.corr()"
   ]
  },
  {
   "cell_type": "code",
   "execution_count": 16,
   "metadata": {},
   "outputs": [
    {
     "data": {
      "text/html": [
       "<div>\n",
       "<style scoped>\n",
       "    .dataframe tbody tr th:only-of-type {\n",
       "        vertical-align: middle;\n",
       "    }\n",
       "\n",
       "    .dataframe tbody tr th {\n",
       "        vertical-align: top;\n",
       "    }\n",
       "\n",
       "    .dataframe thead th {\n",
       "        text-align: right;\n",
       "    }\n",
       "</style>\n",
       "<table border=\"1\" class=\"dataframe\">\n",
       "  <thead>\n",
       "    <tr style=\"text-align: right;\">\n",
       "      <th></th>\n",
       "      <th>tags</th>\n",
       "      <th>len_act</th>\n",
       "      <th>len_ip</th>\n",
       "    </tr>\n",
       "  </thead>\n",
       "  <tbody>\n",
       "    <tr>\n",
       "      <th>tags</th>\n",
       "      <td>1.000000</td>\n",
       "      <td>0.725172</td>\n",
       "      <td>0.199573</td>\n",
       "    </tr>\n",
       "    <tr>\n",
       "      <th>len_act</th>\n",
       "      <td>0.725172</td>\n",
       "      <td>1.000000</td>\n",
       "      <td>0.223373</td>\n",
       "    </tr>\n",
       "    <tr>\n",
       "      <th>len_ip</th>\n",
       "      <td>0.199573</td>\n",
       "      <td>0.223373</td>\n",
       "      <td>1.000000</td>\n",
       "    </tr>\n",
       "  </tbody>\n",
       "</table>\n",
       "</div>"
      ],
      "text/plain": [
       "             tags   len_act    len_ip\n",
       "tags     1.000000  0.725172  0.199573\n",
       "len_act  0.725172  1.000000  0.223373\n",
       "len_ip   0.199573  0.223373  1.000000"
      ]
     },
     "execution_count": 16,
     "metadata": {},
     "output_type": "execute_result"
    }
   ],
   "source": [
    "fair_user.corr()"
   ]
  },
  {
   "cell_type": "code",
   "execution_count": 124,
   "metadata": {},
   "outputs": [
    {
     "name": "stderr",
     "output_type": "stream",
     "text": [
      "/anaconda3/envs/ptt_nlp/lib/python3.6/site-packages/ipykernel_launcher.py:2: UserWarning: Boolean Series key will be reindexed to match DataFrame index.\n",
      "  \n"
     ]
    },
    {
     "name": "stdout",
     "output_type": "stream",
     "text": [
      "45.552167895721496\n"
     ]
    }
   ],
   "source": [
    "# 政黑版IP個數的平均數會大於母體平均數\n",
    "hp_test = df[mask]\n",
    "# hp_test['is_wrong'] = [0 if row['id'] in user_set else 1 for idx, row in hp_test.iterrows()]\n",
    "# pop_mean = hp_test['len_ip'].sum() / len(hp_test)\n",
    "pop_mean = fair_user['len_ip'].sum() / len(fair_user)\n",
    "hp_n = 0 # count hp total\n",
    "hp_wn = [] # count ip length\n",
    "\n",
    "for r_idx, row in hp_test.iterrows():\n",
    "    for data in row['data']:\n",
    "        if data['board'] == 'HatePolitics':\n",
    "            hp_n += 1\n",
    "            hp_wn.append(row['len_ip'])\n",
    "            break\n",
    "\n",
    "hp_wn = pd.Series(hp_wn)\n",
    "hp_mean = hp_wn.sum() / hp_n\n",
    "std = hp_wn.std(ddof=1)\n",
    "\n",
    "# sigma = hp_test['is_wrong'].std()\n",
    "z = (hp_mean - pop_mean) / (std / np.sqrt(hp_n))"
   ]
  },
  {
   "cell_type": "code",
   "execution_count": 125,
   "metadata": {},
   "outputs": [
    {
     "name": "stdout",
     "output_type": "stream",
     "text": [
      "2.731566265060241 16.528409230274814 1.5136327185244587 3.3566154264869343\n"
     ]
    }
   ],
   "source": [
    "print(hp_mean, z, pop_mean, std)\n",
    "# print('population Mean: {}\\n hate politics mean: {}\\n population standar derivition: {}\\n  z: {}'.format(pop_mean, hp_mean, sigma, z))"
   ]
  },
  {
   "cell_type": "code",
   "execution_count": null,
   "metadata": {},
   "outputs": [],
   "source": []
  }
 ],
 "metadata": {
  "kernelspec": {
   "display_name": "Python 3",
   "language": "python",
   "name": "python3"
  },
  "language_info": {
   "codemirror_mode": {
    "name": "ipython",
    "version": 3
   },
   "file_extension": ".py",
   "mimetype": "text/x-python",
   "name": "python",
   "nbconvert_exporter": "python",
   "pygments_lexer": "ipython3",
   "version": "3.6.8"
  }
 },
 "nbformat": 4,
 "nbformat_minor": 2
}
