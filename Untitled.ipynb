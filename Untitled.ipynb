{
 "cells": [
  {
   "cell_type": "code",
   "execution_count": 97,
   "metadata": {},
   "outputs": [
    {
     "name": "stdout",
     "output_type": "stream",
     "text": [
      "0\n"
     ]
    }
   ],
   "source": [
    "import sys\n",
    "sys.path.append('..')\n",
    "from crawler.crawler import PttCrawlerMongoDB\n",
    "import pandas as pd\n",
    "import numpy as np\n",
    "import matplotlib.pyplot as plt\n",
    "\n",
    "ALL = ['id', 'text', 'push', 'len_push', 'score']\n",
    "db = PttCrawlerMongoDB(only_connect_db=True)\n",
    "article = pd.DataFrame(columns=ALL)\n",
    "for i, arti in enumerate(db.find('article', { \"$and\": [{\"$where\": \"this.comment.length > 5\"}, {\"$where\": \"this.score > 0\"}, {\"board\": \"WomenTalk\"}]} , ['author', 'text', 'comment', 'score', 'title'])):\n",
    "# for i, user in enumerate(db.find('user',{} , ['id', 'ip', 'data'])):\n",
    "    if i % 5000 == 0:\n",
    "        print(i)\n",
    "    article.loc[i] = [arti['author'], arti['text'] + arti['title'], arti['comment'], len(arti['comment']), arti['score']]\n"
   ]
  },
  {
   "cell_type": "code",
   "execution_count": 98,
   "metadata": {
    "scrolled": true
   },
   "outputs": [
    {
     "name": "stderr",
     "output_type": "stream",
     "text": [
      "Building prefix dict from /Users/apple/GoogleDrive/statistics/dict/dict.txt ...\n",
      "Loading model from cache /tmp/jieba.u5cf2d085ed4dce97017283a1c0b9d56c.cache\n",
      "Loading model cost 1.124 seconds.\n",
      "Prefix dict has been built succesfully.\n"
     ]
    }
   ],
   "source": [
    "import jieba as jb\n",
    "import jieba.posseg as pseg\n",
    "\n",
    "# pseg.set_dictionary('./dict/dict.txt')\n",
    "jb.set_dictionary('./dict/dict.txt')\n",
    "jb.load_userdict('./dict/ptt_dict.txt')\n",
    "jb.enable_parallel(3)\n",
    "\n",
    "stop_word = set()\n",
    "with open('./dict/ptt_stop_word.txt', 'r') as f:\n",
    "    for line in f.readlines():\n",
    "        stop_word.add(line.strip())\n",
    "\n",
    "cut_text = []\n",
    "for text in article['text']:\n",
    "#     for w in pseg\n",
    "    cut_text.append([w.word.strip() for w in pseg.cut(text) if w.word.strip() and w.flag in ('N', 'n') and w.word.strip() not in stop_word])\n",
    "article['cut_text'] = cut_text"
   ]
  },
  {
   "cell_type": "code",
   "execution_count": 99,
   "metadata": {},
   "outputs": [],
   "source": [
    "from gensim.corpora.dictionary import Dictionary\n",
    "\n",
    "\n",
    "word_dic = Dictionary(cut_text)\n",
    "word_dic.filter_extremes(no_below=4)\n",
    "word_dic.filter_n_most_frequent(0)\n",
    "word_dic.compactify()"
   ]
  },
  {
   "cell_type": "code",
   "execution_count": 100,
   "metadata": {
    "scrolled": false
   },
   "outputs": [],
   "source": [
    "id_text = []\n",
    "for art in article['cut_text']:\n",
    "    tmp = []\n",
    "    for word in art:\n",
    "        try:\n",
    "            tmp.append(word_dic.token2id[word])\n",
    "        except:\n",
    "            tmp.append(-1)\n",
    "    id_text.append(tmp)\n",
    "article['id_text'] = id_text"
   ]
  },
  {
   "cell_type": "code",
   "execution_count": 101,
   "metadata": {},
   "outputs": [],
   "source": [
    "cnt = dict()\n",
    "\n",
    "for ids, score in zip(article['id_text'], article['len_push']):\n",
    "    ids = set(ids)\n",
    "    for i in ids:\n",
    "        if i in cnt.keys():\n",
    "            cnt[i][0] += score\n",
    "            cnt[i][1] += 1\n",
    "        else:\n",
    "            cnt[i] = [score, 1]\n",
    "cnt = sorted(cnt.items(), key=lambda it:it[1][0]/it[1][1], reverse=True)"
   ]
  },
  {
   "cell_type": "code",
   "execution_count": 102,
   "metadata": {},
   "outputs": [],
   "source": [
    "import jieba.posseg as pseg\n",
    "# cnt\n",
    "ans = []\n",
    "for idx, (sc, times) in cnt:\n",
    "    if idx != -1:\n",
    "#         w = word_dic[idx]\n",
    "        ans.append((idx, sc / times))\n"
   ]
  },
  {
   "cell_type": "code",
   "execution_count": 103,
   "metadata": {},
   "outputs": [
    {
     "data": {
      "text/plain": [
       "<matplotlib.collections.PathCollection at 0x119a8b4e0>"
      ]
     },
     "execution_count": 103,
     "metadata": {},
     "output_type": "execute_result"
    },
    {
     "data": {
      "image/png": "[encoded data removed]",
      "text/plain": [
       "<Figure size 1152x576 with 1 Axes>"
      ]
     },
     "metadata": {
      "needs_background": "light"
     },
     "output_type": "display_data"
    }
   ],
   "source": [
    "ST = 1\n",
    "END = 30\n",
    "plt.figure(figsize=(16, 8))\n",
    "x = [w[1] for w in ans[ST:END]]\n",
    "y = [word_dic.dfs[w[0]] for w in ans[ST:END]]\n",
    "plt.xlabel('avg_score')\n",
    "plt.ylabel('freq')\n",
    "\n",
    "for i, (xi, yi) in enumerate(zip(x, y)):\n",
    "    plt.annotate(  \n",
    "        ans[ST+i][0],\n",
    "        xy=(xi, yi),\n",
    "        xytext=(0, -10),\n",
    "        textcoords='offset points',\n",
    "        ha='center',\n",
    "        va='top')\n",
    "plt.scatter(x, y)"
   ]
  },
  {
   "cell_type": "code",
   "execution_count": 108,
   "metadata": {},
   "outputs": [
    {
     "data": {
      "text/plain": [
       "'身材'"
      ]
     },
     "execution_count": 108,
     "metadata": {},
     "output_type": "execute_result"
    }
   ],
   "source": [
    "# word_dic.token2id['大王']\n",
    "word_dic[38]"
   ]
  },
  {
   "cell_type": "code",
   "execution_count": null,
   "metadata": {},
   "outputs": [],
   "source": []
  }
 ],
 "metadata": {
  "kernelspec": {
   "display_name": "Python 3",
   "language": "python",
   "name": "python3"
  },
  "language_info": {
   "codemirror_mode": {
    "name": "ipython",
    "version": 3
   },
   "file_extension": ".py",
   "mimetype": "text/x-python",
   "name": "python",
   "nbconvert_exporter": "python",
   "pygments_lexer": "ipython3",
   "version": "3.6.8"
  }
 },
 "nbformat": 4,
 "nbformat_minor": 2
}
